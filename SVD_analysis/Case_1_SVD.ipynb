{
  "cells": [
    {
      "cell_type": "code",
      "execution_count": 1,
      "metadata": {
        "id": "dsS8vqTz3XHn"
      },
      "outputs": [],
      "source": [
        "import matplotlib.pyplot as plt\n",
        "import numpy as np\n",
        "from typing import Optional\n",
        "import torch\n",
        "import torch.nn as nn\n",
        "import torch.nn.functional as F\n",
        "from torch.optim import Adam\n",
        "import tqdm\n",
        "device = torch.device(\"cuda:0\" if torch.cuda.is_available() else \"cpu\")\n",
        "#print('Current cuda device: ',torch.cuda.get_device_name(0))"
      ]
    },
    {
      "cell_type": "code",
      "execution_count": 2,
      "metadata": {
        "id": "0t8qgK4N3_N4"
      },
      "outputs": [],
      "source": [
        "# Codes for the forward tomography problem\n",
        "class tomography(nn.Module):\n",
        "\n",
        "    def __init__(self, zs, ze, x, z):\n",
        "      # rays start at (x[0], zs[i]) and end at (x[-1], ze[j])\n",
        "\n",
        "        super().__init__()\n",
        "\n",
        "        self.zs = zs\n",
        "        self.ze = ze\n",
        "        self.z  = z\n",
        "        self.x  = x\n",
        "        self.A = self.get_tomo_matrix(zs, ze, x, z)\n",
        "\n",
        "\n",
        "    def get_ray(self, zs, ze, x, z):\n",
        "\n",
        "        n = x.numel()\n",
        "        X, Z = torch.meshgrid(x, z)\n",
        "\n",
        "\n",
        "        s = (ze-zs)/(x[-1]-x[0])\n",
        "        p = s*x + zs\n",
        "\n",
        "        # Approximate the delta function over the path\n",
        "        sigma = (x[1]-x[0])*2\n",
        "        ray = torch.exp(-(X-x.unsqueeze(1))**2/sigma -(Z-p.unsqueeze(1))**2/sigma)\n",
        "        ray[ray<0.1] = 0\n",
        "        return ray\n",
        "\n",
        "    def get_tomo_matrix(self, zs, ze, x, z):\n",
        "\n",
        "        n = zs.numel()\n",
        "\n",
        "        A = torch.zeros(0, x.numel()*z.numel())\n",
        "        A = A.to_sparse()\n",
        "        nrays = tqdm.trange(n)\n",
        "\n",
        "        for i in nrays:\n",
        "            ray = self.get_ray(zs[i], ze[i], x, z)\n",
        "            ray = ray.reshape(1, -1)\n",
        "            ray = ray.to_sparse()\n",
        "            A = torch.cat((A,ray),dim=0)\n",
        "            nrays.set_description('Percent computed: {:2f}'.format(100*i/n))\n",
        "\n",
        "        return A.to(device)\n",
        "\n",
        "    def forward(self, u):\n",
        "      return self.A@u.flatten().to(device)\n",
        "\n",
        "    def adjoint(self, b):\n",
        "      return self.A.t()@b.flatten().to(device)\n"
      ]
    },
    {
      "cell_type": "code",
      "source": [
        "utrue = np.ones([64, 128])\n",
        "for i in range(64):\n",
        "  if i<42 and i>22:\n",
        "    for j in range(128):\n",
        "      if j>54 and j<74:\n",
        "        utrue[i,j] = 5\n",
        "u = torch.tensor(utrue, dtype=torch.float32).to(device)\n",
        "utrue = u.clone().to(device)"
      ],
      "metadata": {
        "id": "cSFwCFO6VlLZ"
      },
      "execution_count": 3,
      "outputs": []
    },
    {
      "cell_type": "code",
      "source": [
        "plt.figure(figsize=(15, 5))\n",
        "plt.subplot(1,4,1)\n",
        "plt.imshow(utrue.detach().cpu().reshape(64, 128).t(), origin = 'lower')\n",
        "plt.axis('image')\n",
        "plt.colorbar()"
      ],
      "metadata": {
        "colab": {
          "base_uri": "https://localhost:8080/",
          "height": 489
        },
        "id": "5kz6_J-2MPhb",
        "outputId": "3adaed37-9b60-4a5b-9c1d-d37d3724b933"
      },
      "execution_count": 4,
      "outputs": [
        {
          "output_type": "execute_result",
          "data": {
            "text/plain": [
              "<matplotlib.colorbar.Colorbar at 0x7ef173e7d690>"
            ]
          },
          "metadata": {},
          "execution_count": 4
        },
        {
          "output_type": "display_data",
          "data": {
            "text/plain": [
              "<Figure size 1500x500 with 2 Axes>"
            ],
            "image/png": "[encoded data removed]"
          },
          "metadata": {}
        }
      ]
    },
    {
      "cell_type": "markdown",
      "metadata": {
        "id": "64S8JQcuD94Y"
      },
      "source": [
        "We can now use the forward model and the simulated model to generate some data we can try to invert"
      ]
    },
    {
      "cell_type": "code",
      "source": [
        "x = torch.linspace(0, 63, 64)\n",
        "z = torch.linspace(0, 127, 128)\n",
        "\n",
        "t = torch.linspace(0, 127, 65)\n",
        "zs, ze = torch.meshgrid(t, t)\n",
        "zs = zs.flatten()\n",
        "ze = ze.flatten()\n",
        "\n",
        "tomo = tomography(zs, ze, x, z).to(device)"
      ],
      "metadata": {
        "colab": {
          "base_uri": "https://localhost:8080/"
        },
        "id": "ff8I5nDfipwn",
        "outputId": "86a57a59-7fa1-405d-8976-7c4f5c5cb5f0"
      },
      "execution_count": 5,
      "outputs": [
        {
          "output_type": "stream",
          "name": "stderr",
          "text": [
            "/usr/local/lib/python3.11/dist-packages/torch/functional.py:539: UserWarning: torch.meshgrid: in an upcoming release, it will be required to pass the indexing argument. (Triggered internally at /pytorch/aten/src/ATen/native/TensorShape.cpp:3637.)\n",
            "  return _VF.meshgrid(tensors, **kwargs)  # type: ignore[attr-defined]\n",
            "Percent computed: 99.976331: 100%|██████████| 4225/4225 [00:54<00:00, 77.48it/s]\n"
          ]
        }
      ]
    },
    {
      "cell_type": "code",
      "execution_count": 6,
      "metadata": {
        "colab": {
          "base_uri": "https://localhost:8080/"
        },
        "id": "S1dHIVX698rf",
        "outputId": "fd4585c9-bcdd-485d-aad6-a519bac01ce3"
      },
      "outputs": [
        {
          "output_type": "stream",
          "name": "stdout",
          "text": [
            "Noise level =  0.09298304468393326\n"
          ]
        }
      ],
      "source": [
        "d = tomo(u).to(device)\n",
        "# Add noise to the data\n",
        "torch.manual_seed(0)\n",
        "noise = torch.randn_like(d)\n",
        "sig   = 20\n",
        "dn = (d + sig*noise).to(device)\n",
        "\n",
        "SNR = (dn-d).norm()/dn.norm()\n",
        "print('Noise level = ', (SNR).item())"
      ]
    },
    {
      "cell_type": "code",
      "source": [
        "class NFTOMO(nn.Module):\n",
        "    def __init__(self):\n",
        "         super(NFTOMO, self).__init__()\n",
        "         self.b1 = nn.Sequential(nn.Linear(2,128), nn.LeakyReLU(inplace = True, negative_slope=0.2))\n",
        "         self.b2 = nn.Sequential(nn.Linear(128,256), nn.LeakyReLU(inplace = True, negative_slope=0.2))\n",
        "         self.b3 = nn.Sequential(nn.Linear(256,256), nn.LeakyReLU(inplace = True, negative_slope=0.2))\n",
        "         self.b4 = nn.Sequential(nn.Linear(256,256), nn.LeakyReLU(inplace = True, negative_slope=0.2))\n",
        "         self.b5 = nn.Sequential(nn.Linear(256,256), nn.LeakyReLU(inplace = True, negative_slope=0.2))\n",
        "         self.b6 = nn.Sequential(nn.Linear(256,128), nn.LeakyReLU(inplace = True, negative_slope=0.2))\n",
        "         self.b7 = nn.Sequential(nn.Linear(128,1), nn.Tanh())\n",
        "\n",
        "    def forward(self, x):\n",
        "        x1 = self.b1(x)\n",
        "\n",
        "        x2 = self.b2(x1)\n",
        "\n",
        "        x3 = self.b3(x2)\n",
        "\n",
        "        x4 = self.b4(x3)\n",
        "\n",
        "        x5 = self.b5(x4)\n",
        "\n",
        "        x6 = self.b6(x5)\n",
        "\n",
        "        x7 = self.b7(x6)\n",
        "\n",
        "\n",
        "        return torch.mul(x7,10)"
      ],
      "metadata": {
        "id": "PN8k2yfyD9BK"
      },
      "execution_count": 7,
      "outputs": []
    },
    {
      "cell_type": "code",
      "source": [
        "torch.manual_seed(0)\n",
        "np.random.seed(0)\n",
        "_model = NFTOMO().to(device)"
      ],
      "metadata": {
        "id": "TfgLECG8DMc1"
      },
      "execution_count": 8,
      "outputs": []
    },
    {
      "cell_type": "code",
      "source": [
        "x1 = np.linspace(0,1,64)\n",
        "x2 = np.linspace(0,1,128)\n",
        "input_list = []\n",
        "for i in x1:\n",
        "  for k in x2:\n",
        "    input_list.append([i,k])\n",
        "input_ = torch.tensor(input_list, dtype=torch.float32).to(device)"
      ],
      "metadata": {
        "id": "_Cl-fGmoi5-S"
      },
      "execution_count": 9,
      "outputs": []
    },
    {
      "cell_type": "code",
      "source": [
        "output = _model(input_)"
      ],
      "metadata": {
        "id": "X7bcMK0Di_PA"
      },
      "execution_count": 12,
      "outputs": []
    },
    {
      "cell_type": "code",
      "source": [
        "plt.figure(figsize=(15, 5))\n",
        "plt.subplot(1,4,1)\n",
        "plt.imshow(utrue.detach().cpu().reshape(64, 128).t())\n",
        "plt.axis('image')\n",
        "plt.colorbar()\n",
        "plt.title('true')\n",
        "plt.subplot(1,4,2)\n",
        "plt.imshow(output.detach().cpu().reshape(64, 128).t())\n",
        "plt.axis('image')\n",
        "plt.colorbar()\n",
        "plt.title('inital NF output')"
      ],
      "metadata": {
        "colab": {
          "base_uri": "https://localhost:8080/",
          "height": 506
        },
        "id": "vylyCXdBjM1z",
        "outputId": "09466174-d3ff-4adf-d704-254ae730a643"
      },
      "execution_count": 13,
      "outputs": [
        {
          "output_type": "execute_result",
          "data": {
            "text/plain": [
              "Text(0.5, 1.0, 'inital NF output')"
            ]
          },
          "metadata": {},
          "execution_count": 13
        },
        {
          "output_type": "display_data",
          "data": {
            "text/plain": [
              "<Figure size 1500x500 with 4 Axes>"
            ],
            "image/png": "[encoded data removed]"
          },
          "metadata": {}
        }
      ]
    },
    {
      "cell_type": "code",
      "source": [
        "total_params = sum(p.numel() for p in _model.parameters())\n",
        "print(f\"Number of parameters: {total_params}\")"
      ],
      "metadata": {
        "colab": {
          "base_uri": "https://localhost:8080/"
        },
        "id": "SWsyXxAe3dCQ",
        "outputId": "783af610-4b7d-4e64-e937-04ae07427802"
      },
      "execution_count": 14,
      "outputs": [
        {
          "output_type": "stream",
          "name": "stdout",
          "text": [
            "Number of parameters: 263809\n"
          ]
        }
      ]
    },
    {
      "cell_type": "code",
      "source": [
        "import torch.optim as optim\n",
        "lr_ = 1e-3\n",
        "optimizer = optim.Adam(_model.parameters(), lr=lr_)"
      ],
      "metadata": {
        "id": "NWtFoHTulSYO"
      },
      "execution_count": 15,
      "outputs": []
    },
    {
      "cell_type": "code",
      "source": [
        "def total_loss(output, Jtvec):\n",
        "      \"\"\"\n",
        "          Note beta here differs from the beta in the convential EM inversion where beta typically starts with a value greater than 1 (e.x. 10), and then cooling down with a fixed rate.\n",
        "          beta: [0,1]\n",
        "          total_loss = (1-beta)*theta_phi + beta*theta_m\n",
        "      \"\"\"\n",
        "      return (1/(output.size(dim=0)))*(Jtvec.t()@output)"
      ],
      "metadata": {
        "id": "VDEszKiLtGys"
      },
      "execution_count": 16,
      "outputs": []
    },
    {
      "cell_type": "code",
      "source": [
        "%matplotlib inline\n",
        "from IPython import display"
      ],
      "metadata": {
        "id": "Nhv1iPlnjYCM"
      },
      "execution_count": 17,
      "outputs": []
    },
    {
      "cell_type": "code",
      "source": [
        "import pickle"
      ],
      "metadata": {
        "id": "RmllDaLfl7O3"
      },
      "execution_count": 18,
      "outputs": []
    },
    {
      "cell_type": "code",
      "source": [
        "fig = plt.figure(figsize=(5, 5), dpi= 80, facecolor='w', edgecolor='k')\n",
        "axes = fig.subplots(1,2)\n",
        "losses = []\n",
        "\n",
        "for epoch in range(1000):\n",
        "    output = _model(input_)\n",
        "    out_ = tomo.A@(output.detach())\n",
        "    Jtvec = 2*tomo.A.t()@(out_-dn.unsqueeze(-1))\n",
        "    loss = total_loss(output, Jtvec)\n",
        "    optimizer.zero_grad()\n",
        "    loss.backward()\n",
        "    diff_ = ((out_-dn.unsqueeze(-1)).norm())**2\n",
        "    losses.append(diff_.item())\n",
        "    optimizer.step()\n",
        "    if epoch%10 == 0:\n",
        "      for ax in axes:\n",
        "        ax.cla()\n",
        "      axes[0].imshow(output.detach().cpu().reshape(64, 128).t(), origin = 'lower')\n",
        "      axes[0].legend()\n",
        "      axes[0].set_title('Recoverd model')\n",
        "      axes[1].plot(losses, label='loss = ' + str(diff_))\n",
        "      axes[1].set_yscale('log')\n",
        "      axes[1].set_title('Training loss')\n",
        "      axes[1].set_xlabel('number of gradient iterations')\n",
        "      axes[1].legend()\n",
        "      display.clear_output(wait=True)\n",
        "      display.display(plt.gcf())\n",
        "plt.close('all')"
      ],
      "metadata": {
        "colab": {
          "base_uri": "https://localhost:8080/",
          "height": 410
        },
        "id": "kVc1cn1wQGB8",
        "outputId": "87fa2abc-1312-4cb9-a90e-cf0acb6c958f"
      },
      "execution_count": 19,
      "outputs": [
        {
          "output_type": "display_data",
          "data": {
            "text/plain": [
              "<Figure size 400x400 with 2 Axes>"
            ],
            "image/png": "[encoded data removed]"
          },
          "metadata": {}
        }
      ]
    },
    {
      "cell_type": "code",
      "source": [
        "_model.cpu()"
      ],
      "metadata": {
        "colab": {
          "base_uri": "https://localhost:8080/"
        },
        "id": "4U8PgBUzS2cw",
        "outputId": "1d9f470b-fe82-4a43-d545-827a4cb9d533"
      },
      "execution_count": 20,
      "outputs": [
        {
          "output_type": "execute_result",
          "data": {
            "text/plain": [
              "NFTOMO(\n",
              "  (b1): Sequential(\n",
              "    (0): Linear(in_features=2, out_features=128, bias=True)\n",
              "    (1): LeakyReLU(negative_slope=0.2, inplace=True)\n",
              "  )\n",
              "  (b2): Sequential(\n",
              "    (0): Linear(in_features=128, out_features=256, bias=True)\n",
              "    (1): LeakyReLU(negative_slope=0.2, inplace=True)\n",
              "  )\n",
              "  (b3): Sequential(\n",
              "    (0): Linear(in_features=256, out_features=256, bias=True)\n",
              "    (1): LeakyReLU(negative_slope=0.2, inplace=True)\n",
              "  )\n",
              "  (b4): Sequential(\n",
              "    (0): Linear(in_features=256, out_features=256, bias=True)\n",
              "    (1): LeakyReLU(negative_slope=0.2, inplace=True)\n",
              "  )\n",
              "  (b5): Sequential(\n",
              "    (0): Linear(in_features=256, out_features=256, bias=True)\n",
              "    (1): LeakyReLU(negative_slope=0.2, inplace=True)\n",
              "  )\n",
              "  (b6): Sequential(\n",
              "    (0): Linear(in_features=256, out_features=128, bias=True)\n",
              "    (1): LeakyReLU(negative_slope=0.2, inplace=True)\n",
              "  )\n",
              "  (b7): Sequential(\n",
              "    (0): Linear(in_features=128, out_features=1, bias=True)\n",
              "    (1): Tanh()\n",
              "  )\n",
              ")"
            ]
          },
          "metadata": {},
          "execution_count": 20
        }
      ]
    },
    {
      "cell_type": "code",
      "source": [
        "torch.save(_model.state_dict(), '7_layers_256_RELU_no_encording_cpu_Case_1_weights.pt')"
      ],
      "metadata": {
        "id": "L-I12BZXQnbx"
      },
      "execution_count": 21,
      "outputs": []
    },
    {
      "cell_type": "code",
      "source": [
        "model = NFTOMO()\n",
        "model.load_state_dict(torch.load('7_layers_256_RELU_no_encording_cpu_Case_1_weights.pt'))"
      ],
      "metadata": {
        "colab": {
          "base_uri": "https://localhost:8080/"
        },
        "id": "_M0_SohBmLXN",
        "outputId": "5af11359-113f-42a6-c0bd-7d87177e5128"
      },
      "execution_count": 22,
      "outputs": [
        {
          "output_type": "execute_result",
          "data": {
            "text/plain": [
              "<All keys matched successfully>"
            ]
          },
          "metadata": {},
          "execution_count": 22
        }
      ]
    },
    {
      "cell_type": "code",
      "source": [
        "model = model.to(device)\n",
        "jacob_ = []\n",
        "input_.requires_grad = False\n",
        "for param in model.parameters():\n",
        "    param.requires_grad = True\n",
        "for i in range(input_.size()[0]):\n",
        "    in_ = input_[i]*1\n",
        "    output_ = model(in_)\n",
        "    der_list = torch.zeros((1)).to(device)\n",
        "    for param in model.parameters():\n",
        "        der_ = torch.autograd.grad(output_[0], param, retain_graph = True)\n",
        "        der_list = torch.concatenate([der_list,der_[0].flatten()])\n",
        "    jacob_.append(der_list[1:])"
      ],
      "metadata": {
        "id": "2CYEsREcl8eQ"
      },
      "execution_count": 27,
      "outputs": []
    },
    {
      "cell_type": "code",
      "source": [
        "jacob = torch.stack(jacob_)"
      ],
      "metadata": {
        "id": "Ku17pH2rmIJE"
      },
      "execution_count": null,
      "outputs": []
    },
    {
      "cell_type": "code",
      "source": [
        "U, S, V = torch.svd(jacob)"
      ],
      "metadata": {
        "id": "I3sDeEr1mSzk"
      },
      "execution_count": null,
      "outputs": []
    },
    {
      "cell_type": "code",
      "source": [
        "import pickle\n",
        "f = open('no_encoding_USV_Case_1.pkl', 'wb')\n",
        "pickle.dump(U, f)\n",
        "pickle.dump(S, f)\n",
        "pickle.dump(V, f)\n",
        "f.close()"
      ],
      "metadata": {
        "id": "wVY_SdrvmTZK"
      },
      "execution_count": null,
      "outputs": []
    }
  ],
  "metadata": {
    "accelerator": "GPU",
    "colab": {
      "provenance": []
    },
    "kernelspec": {
      "display_name": "Python 3",
      "name": "python3"
    },
    "language_info": {
      "name": "python"
    }
  },
  "nbformat": 4,
  "nbformat_minor": 0
}